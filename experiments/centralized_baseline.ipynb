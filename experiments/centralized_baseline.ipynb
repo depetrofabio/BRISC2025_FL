{
 "cells": [
  {
   "cell_type": "markdown",
   "metadata": {},
   "source": [
    "# DenseNet121 Centralized Baseline\n",
    "\n",
    "This notebook loads the classification manifest, builds train/val/test splits, and fine-tunes a frozen DenseNet121 head for 8 epochs using the centralized training utilities."
   ]
  },
  {
   "cell_type": "code",
   "execution_count": 1,
   "id": "147ecf6c",
   "metadata": {},
   "outputs": [],
   "source": [
    "from pathlib import Path\n",
    "import sys\n",
    "\n",
    "repo_root = Path(\"/workspace\")  # replace with your repo root\n",
    "if str(repo_root) not in sys.path:\n",
    "    sys.path.append(str(repo_root))\n",
    "%load_ext autoreload\n",
    "%autoreload 2"
   ]
  },
  {
   "cell_type": "code",
   "execution_count": 3,
   "id": "312f0417",
   "metadata": {},
   "outputs": [
    {
     "data": {
      "text/plain": [
       "'/workspace/experiments'"
      ]
     },
     "execution_count": 3,
     "metadata": {},
     "output_type": "execute_result"
    }
   ],
   "source": [
    "import os\n",
    "os.getcwd()"
   ]
  },
  {
   "cell_type": "code",
   "execution_count": 2,
   "id": "f8259fc9",
   "metadata": {},
   "outputs": [
    {
     "ename": "ImportError",
     "evalue": "cannot import name 'split_manifest_dataframe' from 'data.loader' (/workspace/data/loader.py)",
     "output_type": "error",
     "traceback": [
      "\u001b[31m---------------------------------------------------------------------------\u001b[39m",
      "\u001b[31mImportError\u001b[39m                               Traceback (most recent call last)",
      "\u001b[36mCell\u001b[39m\u001b[36m \u001b[39m\u001b[32mIn[2]\u001b[39m\u001b[32m, line 2\u001b[39m\n\u001b[32m      1\u001b[39m \u001b[38;5;28;01mimport\u001b[39;00m\u001b[38;5;250m \u001b[39m\u001b[34;01mpandas\u001b[39;00m\u001b[38;5;250m \u001b[39m\u001b[38;5;28;01mas\u001b[39;00m\u001b[38;5;250m \u001b[39m\u001b[34;01mpd\u001b[39;00m\n\u001b[32m----> \u001b[39m\u001b[32m2\u001b[39m \u001b[38;5;28;01mfrom\u001b[39;00m\u001b[38;5;250m \u001b[39m\u001b[34;01mdata\u001b[39;00m\u001b[34;01m.\u001b[39;00m\u001b[34;01mloader\u001b[39;00m\u001b[38;5;250m \u001b[39m\u001b[38;5;28;01mimport\u001b[39;00m split_manifest_dataframe, build_datasets_from_manifest\n\u001b[32m      3\u001b[39m \u001b[38;5;28;01mfrom\u001b[39;00m\u001b[38;5;250m \u001b[39m\u001b[34;01mtorch\u001b[39;00m\u001b[34;01m.\u001b[39;00m\u001b[34;01mutils\u001b[39;00m\u001b[34;01m.\u001b[39;00m\u001b[34;01mdata\u001b[39;00m\u001b[38;5;250m \u001b[39m\u001b[38;5;28;01mimport\u001b[39;00m DataLoader\n\u001b[32m      5\u001b[39m manifest_path = Path(\u001b[33m\"\u001b[39m\u001b[33m../data/manifests/classification_manifest.csv\u001b[39m\u001b[33m\"\u001b[39m)\n",
      "\u001b[31mImportError\u001b[39m: cannot import name 'split_manifest_dataframe' from 'data.loader' (/workspace/data/loader.py)"
     ]
    }
   ],
   "source": [
    "import pandas as pd\n",
    "from data.loader import split_manifest_dataframe, build_datasets_from_manifest\n",
    "from torch.utils.data import DataLoader\n",
    "\n",
    "manifest_path = Path(\"../data/manifests/classification_manifest.csv\")\n",
    "base_dir = Path(\"../data/brisc2025\")\n",
    "\n",
    "train_df, val_df, test_df = split_manifest_dataframe(\n",
    "    manifest_path=manifest_path,\n",
    "    train_split_value=\"train\",\n",
    "    test_split_value=\"test\",\n",
    "    val_fraction=0.2,\n",
    "    stratify_columns=(\"tumor\", \"plane\"),\n",
    "    random_state=42,\n",
    ")\n",
    "\n",
    "print(f\"train rows: {len(train_df)} | val rows: {len(val_df)} | test rows: {len(test_df)}\")\n",
    "display(train_df.head())"
   ]
  },
  {
   "cell_type": "code",
   "execution_count": 7,
   "id": "9d1e4844",
   "metadata": {},
   "outputs": [
    {
     "data": {
      "text/plain": [
       "(4000, 1000, 1000)"
      ]
     },
     "execution_count": 7,
     "metadata": {},
     "output_type": "execute_result"
    }
   ],
   "source": [
    "train_set, val_set, test_set = build_datasets_from_manifest(\n",
    "    manifest_path=manifest_path,\n",
    "    base_dir=base_dir,\n",
    "    train_split_value=\"train\",\n",
    "    test_split_value=\"test\",\n",
    "    val_fraction=0.2,\n",
    "    stratify_columns=(\"tumor\", \"plane\"),\n",
    "    random_state=42,\n",
    ")\n",
    "\n",
    "batch_size = 32\n",
    "num_workers = 0  # set to 0 if running on an environment without worker support\n",
    "\n",
    "loader_kwargs = dict(batch_size=batch_size, num_workers=num_workers, pin_memory=True)\n",
    "\n",
    "train_loader = DataLoader(train_set, shuffle=True, drop_last=False, **loader_kwargs)\n",
    "val_loader = DataLoader(val_set, shuffle=False, drop_last=False, **loader_kwargs)\n",
    "test_loader = DataLoader(test_set, shuffle=False, drop_last=False, **loader_kwargs)\n",
    "\n",
    "len(train_set), len(val_set), len(test_set)"
   ]
  },
  {
   "cell_type": "code",
   "execution_count": 8,
   "id": "4f0555a4",
   "metadata": {},
   "outputs": [
    {
     "name": "stderr",
     "output_type": "stream",
     "text": [
      "/usr/local/lib/python3.11/site-packages/pydantic/_internal/_generate_schema.py:2249: UnsupportedFieldAttributeWarning: The 'repr' attribute with value False was provided to the `Field()` function, which has no effect in the context it was used. 'repr' is field-specific metadata, and can only be attached to a model field using `Annotated` metadata or by assignment. This may have happened because an `Annotated` type alias using the `type` statement was used, or if the `Field()` function was attached to a single member of a union type.\n",
      "  warnings.warn(\n",
      "/usr/local/lib/python3.11/site-packages/pydantic/_internal/_generate_schema.py:2249: UnsupportedFieldAttributeWarning: The 'frozen' attribute with value True was provided to the `Field()` function, which has no effect in the context it was used. 'frozen' is field-specific metadata, and can only be attached to a model field using `Annotated` metadata or by assignment. This may have happened because an `Annotated` type alias using the `type` statement was used, or if the `Field()` function was attached to a single member of a union type.\n",
      "  warnings.warn(\n"
     ]
    },
    {
     "data": {
      "text/html": [
       "<button onClick=\"this.nextSibling.style.display='block';this.style.display='none';\">Display W&B run</button><iframe src='https://wandb.ai/dummy/dummy/runs/m6kz8ev2?jupyter=true' style='border:none;width:100%;height:420px;display:none;'></iframe>"
      ],
      "text/plain": [
       "<wandb.sdk.wandb_run.Run at 0xffff86b49d90>"
      ]
     },
     "execution_count": 8,
     "metadata": {},
     "output_type": "execute_result"
    }
   ],
   "source": [
    "import wandb\n",
    "\n",
    "wandb.init(project=\"centralized_baseline\", name=\"densenet121_head\", mode=\"disabled\")"
   ]
  },
  {
   "cell_type": "code",
   "execution_count": 9,
   "id": "85bc8eb9",
   "metadata": {},
   "outputs": [
    {
     "data": {
      "text/plain": [
       "device(type='cpu')"
      ]
     },
     "execution_count": 9,
     "metadata": {},
     "output_type": "execute_result"
    }
   ],
   "source": [
    "import torch\n",
    "import torch.nn as nn\n",
    "from torchvision import models\n",
    "\n",
    "num_classes = 4\n",
    "weights = models.DenseNet121_Weights.IMAGENET1K_V1\n",
    "model = models.densenet121(weights=weights)\n",
    "\n",
    "for param in model.features.parameters():\n",
    "    param.requires_grad = False\n",
    "\n",
    "in_features = model.classifier.in_features\n",
    "model.classifier = nn.Linear(in_features, num_classes)\n",
    "\n",
    "device = torch.device(\"cuda\" if torch.cuda.is_available() else \"cpu\")\n",
    "model = model.to(device)\n",
    "device"
   ]
  },
  {
   "cell_type": "code",
   "execution_count": null,
   "id": "2acce3e1",
   "metadata": {},
   "outputs": [],
   "source": [
    "from training.centralized_training import train_and_validate\n",
    "import torch.optim as optim\n",
    "\n",
    "criterion = nn.CrossEntropyLoss()\n",
    "optimizer = optim.Adam(model.classifier.parameters(), lr=1e-3, weight_decay=1e-4)\n",
    "scheduler = optim.lr_scheduler.StepLR(optimizer, step_size=4, gamma=0.1)\n",
    "\n",
    "checkpoint_dir = Path(\"checkpoints\")\n",
    "checkpoint_dir.mkdir(parents=True, exist_ok=True)\n",
    "checkpoint_path = checkpoint_dir / \"densenet121_centralized_head.pth\"\n",
    "\n",
    "best_val_acc = train_and_validate(\n",
    "    start_epoch=1,\n",
    "    model=model,\n",
    "    train_loader=train_loader,\n",
    "    val_loader=val_loader,\n",
    "    scheduler=scheduler,\n",
    "    optimizer=optimizer,\n",
    "    criterion=criterion,\n",
    "    device=device,\n",
    "    checkpoint_path=str(checkpoint_path),\n",
    "    num_epochs=8,\n",
    "    checkpoint_interval=2,\n",
    ")\n",
    "\n",
    "best_val_acc"
   ]
  },
  {
   "cell_type": "code",
   "execution_count": null,
   "id": "6fb5a31f",
   "metadata": {},
   "outputs": [
    {
     "data": {
      "text/html": [
       "<div>\n",
       "<style scoped>\n",
       "    .dataframe tbody tr th:only-of-type {\n",
       "        vertical-align: middle;\n",
       "    }\n",
       "\n",
       "    .dataframe tbody tr th {\n",
       "        vertical-align: top;\n",
       "    }\n",
       "\n",
       "    .dataframe thead th {\n",
       "        text-align: right;\n",
       "    }\n",
       "</style>\n",
       "<table border=\"1\" class=\"dataframe\">\n",
       "  <thead>\n",
       "    <tr style=\"text-align: right;\">\n",
       "      <th></th>\n",
       "      <th>filename</th>\n",
       "      <th>path</th>\n",
       "      <th>split</th>\n",
       "      <th>index</th>\n",
       "      <th>tumor</th>\n",
       "      <th>plane</th>\n",
       "      <th>sequence</th>\n",
       "      <th>label</th>\n",
       "    </tr>\n",
       "  </thead>\n",
       "  <tbody>\n",
       "    <tr>\n",
       "      <th>0</th>\n",
       "      <td>brisc2025_test_00001_gl_ax_t1.jpg</td>\n",
       "      <td>classification_task/test/glioma/brisc2025_test...</td>\n",
       "      <td>test</td>\n",
       "      <td>1</td>\n",
       "      <td>glioma</td>\n",
       "      <td>ax</td>\n",
       "      <td>t1</td>\n",
       "      <td>0</td>\n",
       "    </tr>\n",
       "    <tr>\n",
       "      <th>1</th>\n",
       "      <td>brisc2025_test_00002_gl_ax_t1.jpg</td>\n",
       "      <td>classification_task/test/glioma/brisc2025_test...</td>\n",
       "      <td>test</td>\n",
       "      <td>2</td>\n",
       "      <td>glioma</td>\n",
       "      <td>ax</td>\n",
       "      <td>t1</td>\n",
       "      <td>0</td>\n",
       "    </tr>\n",
       "    <tr>\n",
       "      <th>2</th>\n",
       "      <td>brisc2025_test_00003_gl_ax_t1.jpg</td>\n",
       "      <td>classification_task/test/glioma/brisc2025_test...</td>\n",
       "      <td>test</td>\n",
       "      <td>3</td>\n",
       "      <td>glioma</td>\n",
       "      <td>ax</td>\n",
       "      <td>t1</td>\n",
       "      <td>0</td>\n",
       "    </tr>\n",
       "    <tr>\n",
       "      <th>3</th>\n",
       "      <td>brisc2025_test_00004_gl_ax_t1.jpg</td>\n",
       "      <td>classification_task/test/glioma/brisc2025_test...</td>\n",
       "      <td>test</td>\n",
       "      <td>4</td>\n",
       "      <td>glioma</td>\n",
       "      <td>ax</td>\n",
       "      <td>t1</td>\n",
       "      <td>0</td>\n",
       "    </tr>\n",
       "    <tr>\n",
       "      <th>4</th>\n",
       "      <td>brisc2025_test_00005_gl_ax_t1.jpg</td>\n",
       "      <td>classification_task/test/glioma/brisc2025_test...</td>\n",
       "      <td>test</td>\n",
       "      <td>5</td>\n",
       "      <td>glioma</td>\n",
       "      <td>ax</td>\n",
       "      <td>t1</td>\n",
       "      <td>0</td>\n",
       "    </tr>\n",
       "  </tbody>\n",
       "</table>\n",
       "</div>"
      ],
      "text/plain": [
       "                            filename  \\\n",
       "0  brisc2025_test_00001_gl_ax_t1.jpg   \n",
       "1  brisc2025_test_00002_gl_ax_t1.jpg   \n",
       "2  brisc2025_test_00003_gl_ax_t1.jpg   \n",
       "3  brisc2025_test_00004_gl_ax_t1.jpg   \n",
       "4  brisc2025_test_00005_gl_ax_t1.jpg   \n",
       "\n",
       "                                                path split  index   tumor  \\\n",
       "0  classification_task/test/glioma/brisc2025_test...  test      1  glioma   \n",
       "1  classification_task/test/glioma/brisc2025_test...  test      2  glioma   \n",
       "2  classification_task/test/glioma/brisc2025_test...  test      3  glioma   \n",
       "3  classification_task/test/glioma/brisc2025_test...  test      4  glioma   \n",
       "4  classification_task/test/glioma/brisc2025_test...  test      5  glioma   \n",
       "\n",
       "  plane sequence  label  \n",
       "0    ax       t1      0  \n",
       "1    ax       t1      0  \n",
       "2    ax       t1      0  \n",
       "3    ax       t1      0  \n",
       "4    ax       t1      0  "
      ]
     },
     "metadata": {},
     "output_type": "display_data"
    }
   ],
   "source": []
  },
  {
   "cell_type": "code",
   "execution_count": null,
   "id": "c1596015",
   "metadata": {},
   "outputs": [],
   "source": [
    "from training.centralized_training import test_epoch\n",
    "\n",
    "test_loss, test_accuracy = test_epoch(model, test_loader, criterion, device)\n",
    "print(f\"Test loss: {test_loss:.4f} | Test accuracy: {test_accuracy:.2f}%\")\n",
    "\n",
    "wandb.finish()"
   ]
  },
  {
   "cell_type": "code",
   "execution_count": null,
   "id": "91422208",
   "metadata": {},
   "outputs": [],
   "source": [
    "import torch\n",
    "from sklearn.metrics import confusion_matrix, ConfusionMatrixDisplay\n",
    "import matplotlib.pyplot as plt\n",
    "\n",
    "model.eval()\n",
    "all_preds = []\n",
    "all_targets = []\n",
    "\n",
    "with torch.no_grad():\n",
    "    for images, labels in val_loader:\n",
    "        images = images.to(device)\n",
    "        labels = labels.to(device)\n",
    "        outputs = model(images)\n",
    "        preds = torch.argmax(outputs, dim=1)\n",
    "        all_preds.extend(preds.cpu().numpy())\n",
    "        all_targets.extend(labels.cpu().numpy())\n",
    "\n",
    "cm = confusion_matrix(all_targets, all_preds)\n",
    "disp = ConfusionMatrixDisplay(confusion_matrix=cm, display_labels=[\"glioma\", \"meningioma\", \"no_tumor\", \"pituitary\"])\n",
    "disp.plot(cmap=\"Blues\")\n",
    "plt.title(\"Validation Confusion Matrix\")\n",
    "plt.show()\n"
   ]
  }
 ],
 "metadata": {
  "kernelspec": {
   "display_name": "Python 3",
   "language": "python",
   "name": "python3"
  },
  "language_info": {
   "codemirror_mode": {
    "name": "ipython",
    "version": 3
   },
   "file_extension": ".py",
   "mimetype": "text/x-python",
   "name": "python",
   "nbconvert_exporter": "python",
   "pygments_lexer": "ipython3",
   "version": "3.11.13"
  }
 },
 "nbformat": 4,
 "nbformat_minor": 5
}
