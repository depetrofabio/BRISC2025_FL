{
  "cells": [
    {
      "cell_type": "markdown",
      "metadata": {
        "id": "6U9HdQGX9Gzi"
      },
      "source": [
        "# DenseNet121 Centralized Baseline\n",
        "\n",
        "This notebook loads the classification manifest, builds train/val/test splits, and fine-tunes a frozen DenseNet121 head for 8 epochs using the centralized training utilities."
      ],
      "id": "6U9HdQGX9Gzi"
    },
    {
      "cell_type": "code",
      "execution_count": 1,
      "id": "147ecf6c",
      "metadata": {
        "id": "147ecf6c"
      },
      "outputs": [],
      "source": [
        "#from pathlib import Path\n",
        "#import sys\n",
        "\n",
        "#repo_root = Path(\"/workspace\")  # replace with your repo root\n",
        "#if str(repo_root) not in sys.path:\n",
        "    #sys.path.append(str(repo_root))\n",
        "#%load_ext autoreload\n",
        "#%autoreload 2"
      ]
    },
    {
      "cell_type": "code",
      "source": [
        "import wandb\n",
        "from google.colab import drive\n",
        "drive.mount('/content/drive', force_remount=True)\n",
        "import shutil\n",
        "import os                              # Import the 'os' module for changing directories\n",
        "os.chdir('/content/drive/MyDrive/BRISC2025_FL')  # Change the directory"
      ],
      "metadata": {
        "colab": {
          "base_uri": "https://localhost:8080/"
        },
        "id": "2dAgl2Il9Sr_",
        "outputId": "b3658c2c-c207-4dd7-ff0f-1949798b049a"
      },
      "id": "2dAgl2Il9Sr_",
      "execution_count": 2,
      "outputs": [
        {
          "output_type": "stream",
          "name": "stdout",
          "text": [
            "Mounted at /content/drive\n"
          ]
        }
      ]
    },
    {
      "cell_type": "code",
      "source": [
        "from pathlib import Path\n",
        "import sys"
      ],
      "metadata": {
        "id": "3BDngXyj-Xn5"
      },
      "id": "3BDngXyj-Xn5",
      "execution_count": 3,
      "outputs": []
    },
    {
      "cell_type": "code",
      "execution_count": 4,
      "id": "312f0417",
      "metadata": {
        "colab": {
          "base_uri": "https://localhost:8080/",
          "height": 35
        },
        "id": "312f0417",
        "outputId": "d01d36f9-63d7-4c5b-8ddd-16b5c9fb8c1f"
      },
      "outputs": [
        {
          "output_type": "execute_result",
          "data": {
            "text/plain": [
              "'/content/drive/MyDrive/BRISC2025_FL'"
            ],
            "application/vnd.google.colaboratory.intrinsic+json": {
              "type": "string"
            }
          },
          "metadata": {},
          "execution_count": 4
        }
      ],
      "source": [
        "import os\n",
        "os.getcwd()"
      ]
    },
    {
      "cell_type": "code",
      "source": [
        "!ls"
      ],
      "metadata": {
        "colab": {
          "base_uri": "https://localhost:8080/"
        },
        "id": "ePXBjVw09kby",
        "outputId": "4da1ee81-6dd5-4fb6-fe37-f04b5fe63892"
      },
      "id": "ePXBjVw09kby",
      "execution_count": 5,
      "outputs": [
        {
          "output_type": "stream",
          "name": "stdout",
          "text": [
            "checkpoints  data  experiments\ttraining  wandb\n"
          ]
        }
      ]
    },
    {
      "cell_type": "code",
      "source": [
        "!ls data"
      ],
      "metadata": {
        "colab": {
          "base_uri": "https://localhost:8080/"
        },
        "id": "wSVGEWCf9pbk",
        "outputId": "9d6d368b-7aad-49be-d4be-1f43a0f015d0"
      },
      "id": "wSVGEWCf9pbk",
      "execution_count": 6,
      "outputs": [
        {
          "output_type": "stream",
          "name": "stdout",
          "text": [
            "brisc2025\t\t\t  __init__.py  manifests    __pycache__\n",
            "build_classification_manifest.py  loader.py    prova.ipynb  utils.py\n"
          ]
        }
      ]
    },
    {
      "cell_type": "code",
      "execution_count": 7,
      "id": "f8259fc9",
      "metadata": {
        "colab": {
          "base_uri": "https://localhost:8080/",
          "height": 221
        },
        "id": "f8259fc9",
        "outputId": "7c2d0058-c43d-4709-eccd-9d14efdf90be"
      },
      "outputs": [
        {
          "output_type": "stream",
          "name": "stdout",
          "text": [
            "train rows: 4000 | val rows: 1000 | test rows: 1000\n"
          ]
        },
        {
          "output_type": "display_data",
          "data": {
            "text/plain": [
              "                             filename  \\\n",
              "0  brisc2025_train_00592_gl_co_t1.jpg   \n",
              "1  brisc2025_train_04803_pi_sa_t1.jpg   \n",
              "2  brisc2025_train_00818_gl_co_t1.jpg   \n",
              "3  brisc2025_train_01156_me_ax_t1.jpg   \n",
              "4  brisc2025_train_02610_no_ax_t1.jpg   \n",
              "\n",
              "                                                path  split  index  \\\n",
              "0  classification_task/train/glioma/brisc2025_tra...  train    592   \n",
              "1  classification_task/train/pituitary/brisc2025_...  train   4803   \n",
              "2  classification_task/train/glioma/brisc2025_tra...  train    818   \n",
              "3  classification_task/train/meningioma/brisc2025...  train   1156   \n",
              "4  classification_task/train/no_tumor/brisc2025_t...  train   2610   \n",
              "\n",
              "        tumor plane sequence  label        _strata  \n",
              "0      glioma    co       t1      0      glioma_co  \n",
              "1   pituitary    sa       t1      3   pituitary_sa  \n",
              "2      glioma    co       t1      0      glioma_co  \n",
              "3  meningioma    ax       t1      1  meningioma_ax  \n",
              "4    no_tumor    ax       t1      2    no_tumor_ax  "
            ],
            "text/html": [
              "\n",
              "  <div id=\"df-28faf5fd-4754-4118-bf80-3a8e50de4364\" class=\"colab-df-container\">\n",
              "    <div>\n",
              "<style scoped>\n",
              "    .dataframe tbody tr th:only-of-type {\n",
              "        vertical-align: middle;\n",
              "    }\n",
              "\n",
              "    .dataframe tbody tr th {\n",
              "        vertical-align: top;\n",
              "    }\n",
              "\n",
              "    .dataframe thead th {\n",
              "        text-align: right;\n",
              "    }\n",
              "</style>\n",
              "<table border=\"1\" class=\"dataframe\">\n",
              "  <thead>\n",
              "    <tr style=\"text-align: right;\">\n",
              "      <th></th>\n",
              "      <th>filename</th>\n",
              "      <th>path</th>\n",
              "      <th>split</th>\n",
              "      <th>index</th>\n",
              "      <th>tumor</th>\n",
              "      <th>plane</th>\n",
              "      <th>sequence</th>\n",
              "      <th>label</th>\n",
              "      <th>_strata</th>\n",
              "    </tr>\n",
              "  </thead>\n",
              "  <tbody>\n",
              "    <tr>\n",
              "      <th>0</th>\n",
              "      <td>brisc2025_train_00592_gl_co_t1.jpg</td>\n",
              "      <td>classification_task/train/glioma/brisc2025_tra...</td>\n",
              "      <td>train</td>\n",
              "      <td>592</td>\n",
              "      <td>glioma</td>\n",
              "      <td>co</td>\n",
              "      <td>t1</td>\n",
              "      <td>0</td>\n",
              "      <td>glioma_co</td>\n",
              "    </tr>\n",
              "    <tr>\n",
              "      <th>1</th>\n",
              "      <td>brisc2025_train_04803_pi_sa_t1.jpg</td>\n",
              "      <td>classification_task/train/pituitary/brisc2025_...</td>\n",
              "      <td>train</td>\n",
              "      <td>4803</td>\n",
              "      <td>pituitary</td>\n",
              "      <td>sa</td>\n",
              "      <td>t1</td>\n",
              "      <td>3</td>\n",
              "      <td>pituitary_sa</td>\n",
              "    </tr>\n",
              "    <tr>\n",
              "      <th>2</th>\n",
              "      <td>brisc2025_train_00818_gl_co_t1.jpg</td>\n",
              "      <td>classification_task/train/glioma/brisc2025_tra...</td>\n",
              "      <td>train</td>\n",
              "      <td>818</td>\n",
              "      <td>glioma</td>\n",
              "      <td>co</td>\n",
              "      <td>t1</td>\n",
              "      <td>0</td>\n",
              "      <td>glioma_co</td>\n",
              "    </tr>\n",
              "    <tr>\n",
              "      <th>3</th>\n",
              "      <td>brisc2025_train_01156_me_ax_t1.jpg</td>\n",
              "      <td>classification_task/train/meningioma/brisc2025...</td>\n",
              "      <td>train</td>\n",
              "      <td>1156</td>\n",
              "      <td>meningioma</td>\n",
              "      <td>ax</td>\n",
              "      <td>t1</td>\n",
              "      <td>1</td>\n",
              "      <td>meningioma_ax</td>\n",
              "    </tr>\n",
              "    <tr>\n",
              "      <th>4</th>\n",
              "      <td>brisc2025_train_02610_no_ax_t1.jpg</td>\n",
              "      <td>classification_task/train/no_tumor/brisc2025_t...</td>\n",
              "      <td>train</td>\n",
              "      <td>2610</td>\n",
              "      <td>no_tumor</td>\n",
              "      <td>ax</td>\n",
              "      <td>t1</td>\n",
              "      <td>2</td>\n",
              "      <td>no_tumor_ax</td>\n",
              "    </tr>\n",
              "  </tbody>\n",
              "</table>\n",
              "</div>\n",
              "    <div class=\"colab-df-buttons\">\n",
              "\n",
              "  <div class=\"colab-df-container\">\n",
              "    <button class=\"colab-df-convert\" onclick=\"convertToInteractive('df-28faf5fd-4754-4118-bf80-3a8e50de4364')\"\n",
              "            title=\"Convert this dataframe to an interactive table.\"\n",
              "            style=\"display:none;\">\n",
              "\n",
              "  <svg xmlns=\"http://www.w3.org/2000/svg\" height=\"24px\" viewBox=\"0 -960 960 960\">\n",
              "    <path d=\"M120-120v-720h720v720H120Zm60-500h600v-160H180v160Zm220 220h160v-160H400v160Zm0 220h160v-160H400v160ZM180-400h160v-160H180v160Zm440 0h160v-160H620v160ZM180-180h160v-160H180v160Zm440 0h160v-160H620v160Z\"/>\n",
              "  </svg>\n",
              "    </button>\n",
              "\n",
              "  <style>\n",
              "    .colab-df-container {\n",
              "      display:flex;\n",
              "      gap: 12px;\n",
              "    }\n",
              "\n",
              "    .colab-df-convert {\n",
              "      background-color: #E8F0FE;\n",
              "      border: none;\n",
              "      border-radius: 50%;\n",
              "      cursor: pointer;\n",
              "      display: none;\n",
              "      fill: #1967D2;\n",
              "      height: 32px;\n",
              "      padding: 0 0 0 0;\n",
              "      width: 32px;\n",
              "    }\n",
              "\n",
              "    .colab-df-convert:hover {\n",
              "      background-color: #E2EBFA;\n",
              "      box-shadow: 0px 1px 2px rgba(60, 64, 67, 0.3), 0px 1px 3px 1px rgba(60, 64, 67, 0.15);\n",
              "      fill: #174EA6;\n",
              "    }\n",
              "\n",
              "    .colab-df-buttons div {\n",
              "      margin-bottom: 4px;\n",
              "    }\n",
              "\n",
              "    [theme=dark] .colab-df-convert {\n",
              "      background-color: #3B4455;\n",
              "      fill: #D2E3FC;\n",
              "    }\n",
              "\n",
              "    [theme=dark] .colab-df-convert:hover {\n",
              "      background-color: #434B5C;\n",
              "      box-shadow: 0px 1px 3px 1px rgba(0, 0, 0, 0.15);\n",
              "      filter: drop-shadow(0px 1px 2px rgba(0, 0, 0, 0.3));\n",
              "      fill: #FFFFFF;\n",
              "    }\n",
              "  </style>\n",
              "\n",
              "    <script>\n",
              "      const buttonEl =\n",
              "        document.querySelector('#df-28faf5fd-4754-4118-bf80-3a8e50de4364 button.colab-df-convert');\n",
              "      buttonEl.style.display =\n",
              "        google.colab.kernel.accessAllowed ? 'block' : 'none';\n",
              "\n",
              "      async function convertToInteractive(key) {\n",
              "        const element = document.querySelector('#df-28faf5fd-4754-4118-bf80-3a8e50de4364');\n",
              "        const dataTable =\n",
              "          await google.colab.kernel.invokeFunction('convertToInteractive',\n",
              "                                                    [key], {});\n",
              "        if (!dataTable) return;\n",
              "\n",
              "        const docLinkHtml = 'Like what you see? Visit the ' +\n",
              "          '<a target=\"_blank\" href=https://colab.research.google.com/notebooks/data_table.ipynb>data table notebook</a>'\n",
              "          + ' to learn more about interactive tables.';\n",
              "        element.innerHTML = '';\n",
              "        dataTable['output_type'] = 'display_data';\n",
              "        await google.colab.output.renderOutput(dataTable, element);\n",
              "        const docLink = document.createElement('div');\n",
              "        docLink.innerHTML = docLinkHtml;\n",
              "        element.appendChild(docLink);\n",
              "      }\n",
              "    </script>\n",
              "  </div>\n",
              "\n",
              "\n",
              "    <div id=\"df-f64b94ce-2852-4fc7-92ff-edb002dabf1c\">\n",
              "      <button class=\"colab-df-quickchart\" onclick=\"quickchart('df-f64b94ce-2852-4fc7-92ff-edb002dabf1c')\"\n",
              "                title=\"Suggest charts\"\n",
              "                style=\"display:none;\">\n",
              "\n",
              "<svg xmlns=\"http://www.w3.org/2000/svg\" height=\"24px\"viewBox=\"0 0 24 24\"\n",
              "     width=\"24px\">\n",
              "    <g>\n",
              "        <path d=\"M19 3H5c-1.1 0-2 .9-2 2v14c0 1.1.9 2 2 2h14c1.1 0 2-.9 2-2V5c0-1.1-.9-2-2-2zM9 17H7v-7h2v7zm4 0h-2V7h2v10zm4 0h-2v-4h2v4z\"/>\n",
              "    </g>\n",
              "</svg>\n",
              "      </button>\n",
              "\n",
              "<style>\n",
              "  .colab-df-quickchart {\n",
              "      --bg-color: #E8F0FE;\n",
              "      --fill-color: #1967D2;\n",
              "      --hover-bg-color: #E2EBFA;\n",
              "      --hover-fill-color: #174EA6;\n",
              "      --disabled-fill-color: #AAA;\n",
              "      --disabled-bg-color: #DDD;\n",
              "  }\n",
              "\n",
              "  [theme=dark] .colab-df-quickchart {\n",
              "      --bg-color: #3B4455;\n",
              "      --fill-color: #D2E3FC;\n",
              "      --hover-bg-color: #434B5C;\n",
              "      --hover-fill-color: #FFFFFF;\n",
              "      --disabled-bg-color: #3B4455;\n",
              "      --disabled-fill-color: #666;\n",
              "  }\n",
              "\n",
              "  .colab-df-quickchart {\n",
              "    background-color: var(--bg-color);\n",
              "    border: none;\n",
              "    border-radius: 50%;\n",
              "    cursor: pointer;\n",
              "    display: none;\n",
              "    fill: var(--fill-color);\n",
              "    height: 32px;\n",
              "    padding: 0;\n",
              "    width: 32px;\n",
              "  }\n",
              "\n",
              "  .colab-df-quickchart:hover {\n",
              "    background-color: var(--hover-bg-color);\n",
              "    box-shadow: 0 1px 2px rgba(60, 64, 67, 0.3), 0 1px 3px 1px rgba(60, 64, 67, 0.15);\n",
              "    fill: var(--button-hover-fill-color);\n",
              "  }\n",
              "\n",
              "  .colab-df-quickchart-complete:disabled,\n",
              "  .colab-df-quickchart-complete:disabled:hover {\n",
              "    background-color: var(--disabled-bg-color);\n",
              "    fill: var(--disabled-fill-color);\n",
              "    box-shadow: none;\n",
              "  }\n",
              "\n",
              "  .colab-df-spinner {\n",
              "    border: 2px solid var(--fill-color);\n",
              "    border-color: transparent;\n",
              "    border-bottom-color: var(--fill-color);\n",
              "    animation:\n",
              "      spin 1s steps(1) infinite;\n",
              "  }\n",
              "\n",
              "  @keyframes spin {\n",
              "    0% {\n",
              "      border-color: transparent;\n",
              "      border-bottom-color: var(--fill-color);\n",
              "      border-left-color: var(--fill-color);\n",
              "    }\n",
              "    20% {\n",
              "      border-color: transparent;\n",
              "      border-left-color: var(--fill-color);\n",
              "      border-top-color: var(--fill-color);\n",
              "    }\n",
              "    30% {\n",
              "      border-color: transparent;\n",
              "      border-left-color: var(--fill-color);\n",
              "      border-top-color: var(--fill-color);\n",
              "      border-right-color: var(--fill-color);\n",
              "    }\n",
              "    40% {\n",
              "      border-color: transparent;\n",
              "      border-right-color: var(--fill-color);\n",
              "      border-top-color: var(--fill-color);\n",
              "    }\n",
              "    60% {\n",
              "      border-color: transparent;\n",
              "      border-right-color: var(--fill-color);\n",
              "    }\n",
              "    80% {\n",
              "      border-color: transparent;\n",
              "      border-right-color: var(--fill-color);\n",
              "      border-bottom-color: var(--fill-color);\n",
              "    }\n",
              "    90% {\n",
              "      border-color: transparent;\n",
              "      border-bottom-color: var(--fill-color);\n",
              "    }\n",
              "  }\n",
              "</style>\n",
              "\n",
              "      <script>\n",
              "        async function quickchart(key) {\n",
              "          const quickchartButtonEl =\n",
              "            document.querySelector('#' + key + ' button');\n",
              "          quickchartButtonEl.disabled = true;  // To prevent multiple clicks.\n",
              "          quickchartButtonEl.classList.add('colab-df-spinner');\n",
              "          try {\n",
              "            const charts = await google.colab.kernel.invokeFunction(\n",
              "                'suggestCharts', [key], {});\n",
              "          } catch (error) {\n",
              "            console.error('Error during call to suggestCharts:', error);\n",
              "          }\n",
              "          quickchartButtonEl.classList.remove('colab-df-spinner');\n",
              "          quickchartButtonEl.classList.add('colab-df-quickchart-complete');\n",
              "        }\n",
              "        (() => {\n",
              "          let quickchartButtonEl =\n",
              "            document.querySelector('#df-f64b94ce-2852-4fc7-92ff-edb002dabf1c button');\n",
              "          quickchartButtonEl.style.display =\n",
              "            google.colab.kernel.accessAllowed ? 'block' : 'none';\n",
              "        })();\n",
              "      </script>\n",
              "    </div>\n",
              "\n",
              "    </div>\n",
              "  </div>\n"
            ],
            "application/vnd.google.colaboratory.intrinsic+json": {
              "type": "dataframe",
              "summary": "{\n  \"name\": \"display(train_df\",\n  \"rows\": 5,\n  \"fields\": [\n    {\n      \"column\": \"filename\",\n      \"properties\": {\n        \"dtype\": \"string\",\n        \"num_unique_values\": 5,\n        \"samples\": [\n          \"brisc2025_train_04803_pi_sa_t1.jpg\",\n          \"brisc2025_train_02610_no_ax_t1.jpg\",\n          \"brisc2025_train_00818_gl_co_t1.jpg\"\n        ],\n        \"semantic_type\": \"\",\n        \"description\": \"\"\n      }\n    },\n    {\n      \"column\": \"path\",\n      \"properties\": {\n        \"dtype\": \"string\",\n        \"num_unique_values\": 5,\n        \"samples\": [\n          \"classification_task/train/pituitary/brisc2025_train_04803_pi_sa_t1.jpg\",\n          \"classification_task/train/no_tumor/brisc2025_train_02610_no_ax_t1.jpg\",\n          \"classification_task/train/glioma/brisc2025_train_00818_gl_co_t1.jpg\"\n        ],\n        \"semantic_type\": \"\",\n        \"description\": \"\"\n      }\n    },\n    {\n      \"column\": \"split\",\n      \"properties\": {\n        \"dtype\": \"category\",\n        \"num_unique_values\": 1,\n        \"samples\": [\n          \"train\"\n        ],\n        \"semantic_type\": \"\",\n        \"description\": \"\"\n      }\n    },\n    {\n      \"column\": \"index\",\n      \"properties\": {\n        \"dtype\": \"number\",\n        \"std\": 1755,\n        \"min\": 592,\n        \"max\": 4803,\n        \"num_unique_values\": 5,\n        \"samples\": [\n          4803\n        ],\n        \"semantic_type\": \"\",\n        \"description\": \"\"\n      }\n    },\n    {\n      \"column\": \"tumor\",\n      \"properties\": {\n        \"dtype\": \"string\",\n        \"num_unique_values\": 4,\n        \"samples\": [\n          \"pituitary\"\n        ],\n        \"semantic_type\": \"\",\n        \"description\": \"\"\n      }\n    },\n    {\n      \"column\": \"plane\",\n      \"properties\": {\n        \"dtype\": \"string\",\n        \"num_unique_values\": 3,\n        \"samples\": [\n          \"co\"\n        ],\n        \"semantic_type\": \"\",\n        \"description\": \"\"\n      }\n    },\n    {\n      \"column\": \"sequence\",\n      \"properties\": {\n        \"dtype\": \"category\",\n        \"num_unique_values\": 1,\n        \"samples\": [\n          \"t1\"\n        ],\n        \"semantic_type\": \"\",\n        \"description\": \"\"\n      }\n    },\n    {\n      \"column\": \"label\",\n      \"properties\": {\n        \"dtype\": \"number\",\n        \"std\": 1,\n        \"min\": 0,\n        \"max\": 3,\n        \"num_unique_values\": 4,\n        \"samples\": [\n          3\n        ],\n        \"semantic_type\": \"\",\n        \"description\": \"\"\n      }\n    },\n    {\n      \"column\": \"_strata\",\n      \"properties\": {\n        \"dtype\": \"string\",\n        \"num_unique_values\": 4,\n        \"samples\": [\n          \"pituitary_sa\"\n        ],\n        \"semantic_type\": \"\",\n        \"description\": \"\"\n      }\n    }\n  ]\n}"
            }
          },
          "metadata": {}
        }
      ],
      "source": [
        "import pandas as pd\n",
        "from data.loader import split_manifest_dataframe, build_datasets_from_manifest\n",
        "from torch.utils.data import DataLoader\n",
        "\n",
        "manifest_path = Path(\"data/manifests/classification_manifest.csv\")\n",
        "base_dir = Path(\"data/brisc2025\")\n",
        "\n",
        "train_df, val_df, test_df = split_manifest_dataframe(\n",
        "    manifest_path=manifest_path,\n",
        "    train_split_value=\"train\",\n",
        "    test_split_value=\"test\",\n",
        "    val_fraction=0.2,\n",
        "    stratify_columns=(\"tumor\", \"plane\"),\n",
        "    random_state=42,\n",
        ")\n",
        "\n",
        "print(f\"train rows: {len(train_df)} | val rows: {len(val_df)} | test rows: {len(test_df)}\")\n",
        "display(train_df.head())"
      ]
    },
    {
      "cell_type": "code",
      "source": [
        "BATCH_SIZE = 32\n",
        "NUM_WORKERS = 2\n",
        "NUM_CLASSES = 4\n",
        "LEARNING_RATE = 1e-3\n",
        "WEIGHT_DECAY = 1e-4\n",
        "NUM_EPOCHS = 8\n",
        "CHECKPOINT_INTERVAL = 2"
      ],
      "metadata": {
        "id": "_LRNwRmX-niB"
      },
      "id": "_LRNwRmX-niB",
      "execution_count": 8,
      "outputs": []
    },
    {
      "cell_type": "code",
      "execution_count": 9,
      "id": "9d1e4844",
      "metadata": {
        "colab": {
          "base_uri": "https://localhost:8080/"
        },
        "id": "9d1e4844",
        "outputId": "5a765682-5e29-44d8-8d0a-6ac32fd51a96"
      },
      "outputs": [
        {
          "output_type": "execute_result",
          "data": {
            "text/plain": [
              "(4000, 1000, 1000)"
            ]
          },
          "metadata": {},
          "execution_count": 9
        }
      ],
      "source": [
        "train_set, val_set, test_set = build_datasets_from_manifest(\n",
        "    manifest_path=manifest_path,\n",
        "    base_dir=base_dir,\n",
        "    train_split_value=\"train\",\n",
        "    test_split_value=\"test\",\n",
        "    val_fraction=0.2,\n",
        "    stratify_columns=(\"tumor\", \"plane\"),\n",
        "    random_state=42,\n",
        ")\n",
        "\n",
        "batch_size = BATCH_SIZE\n",
        "num_workers = NUM_WORKERS  # set to 0 if running on an environment without worker support\n",
        "\n",
        "loader_kwargs = dict(batch_size=batch_size, num_workers=num_workers, pin_memory=True)\n",
        "\n",
        "train_loader = DataLoader(train_set, shuffle=True, drop_last=False, **loader_kwargs)\n",
        "val_loader = DataLoader(val_set, shuffle=False, drop_last=False, **loader_kwargs)\n",
        "test_loader = DataLoader(test_set, shuffle=False, drop_last=False, **loader_kwargs)\n",
        "\n",
        "len(train_set), len(val_set), len(test_set)"
      ]
    },
    {
      "cell_type": "code",
      "source": [
        "import wandb\n",
        "# 82fcb15fccd81a5d9dfd0b6c56bdd318ba7d071f\n",
        "wandb.login()"
      ],
      "metadata": {
        "colab": {
          "base_uri": "https://localhost:8080/"
        },
        "id": "YEcxvuzQDmSD",
        "outputId": "da58eab5-6c94-41dd-ea5c-d8a8c10595c6"
      },
      "id": "YEcxvuzQDmSD",
      "execution_count": 10,
      "outputs": [
        {
          "output_type": "stream",
          "name": "stderr",
          "text": [
            "\u001b[34m\u001b[1mwandb\u001b[0m: Currently logged in as: \u001b[33mdepetrofabio\u001b[0m (\u001b[33mdepetrofabio-politecnico-di-torino\u001b[0m) to \u001b[32mhttps://api.wandb.ai\u001b[0m. Use \u001b[1m`wandb login --relogin`\u001b[0m to force relogin\n"
          ]
        },
        {
          "output_type": "execute_result",
          "data": {
            "text/plain": [
              "True"
            ]
          },
          "metadata": {},
          "execution_count": 10
        }
      ]
    },
    {
      "cell_type": "code",
      "source": [
        "!ls training"
      ],
      "metadata": {
        "colab": {
          "base_uri": "https://localhost:8080/"
        },
        "id": "7V2fNI9b_ZYV",
        "outputId": "680fdc8f-aa3f-4e6c-8cf8-6a96eb5399de"
      },
      "id": "7V2fNI9b_ZYV",
      "execution_count": 11,
      "outputs": [
        {
          "output_type": "stream",
          "name": "stdout",
          "text": [
            "centralized_training.py  FL_training.py  __pycache__\n",
            "checkpointing.py\t __init__.py\n"
          ]
        }
      ]
    },
    {
      "cell_type": "code",
      "execution_count": 12,
      "id": "85bc8eb9",
      "metadata": {
        "colab": {
          "base_uri": "https://localhost:8080/"
        },
        "id": "85bc8eb9",
        "outputId": "4274f9cc-53c0-4ffb-d75f-d33f84cb8c15"
      },
      "outputs": [
        {
          "output_type": "execute_result",
          "data": {
            "text/plain": [
              "device(type='cuda')"
            ]
          },
          "metadata": {},
          "execution_count": 12
        }
      ],
      "source": [
        "import torch\n",
        "import torch.nn as nn\n",
        "from torchvision import models\n",
        "\n",
        "num_classes = NUM_CLASSES\n",
        "weights = models.DenseNet121_Weights.IMAGENET1K_V1\n",
        "model = models.densenet121(weights=weights)\n",
        "\n",
        "for param in model.features.parameters():\n",
        "    param.requires_grad = False\n",
        "\n",
        "in_features = model.classifier.in_features\n",
        "model.classifier = nn.Linear(in_features, num_classes)\n",
        "\n",
        "device = torch.device(\"cuda\" if torch.cuda.is_available() else \"cpu\")\n",
        "model = model.to(device)\n",
        "device"
      ]
    },
    {
      "cell_type": "code",
      "source": [
        "checkpoint_dir = Path(\"checkpoints\")\n",
        "checkpoint_dir.mkdir(parents=True, exist_ok=True)\n",
        "checkpoint_path = checkpoint_dir / \"densenet121_centralized_head.pth\""
      ],
      "metadata": {
        "id": "3qe7tGBtH5WK"
      },
      "id": "3qe7tGBtH5WK",
      "execution_count": 13,
      "outputs": []
    },
    {
      "cell_type": "code",
      "source": [
        "str(checkpoint_path)"
      ],
      "metadata": {
        "colab": {
          "base_uri": "https://localhost:8080/",
          "height": 35
        },
        "id": "sXZjgCiLH5te",
        "outputId": "ba92b59a-d2ce-440a-a28d-5107bd5a24c4"
      },
      "id": "sXZjgCiLH5te",
      "execution_count": 14,
      "outputs": [
        {
          "output_type": "execute_result",
          "data": {
            "text/plain": [
              "'checkpoints/densenet121_centralized_head.pth'"
            ],
            "application/vnd.google.colaboratory.intrinsic+json": {
              "type": "string"
            }
          },
          "metadata": {},
          "execution_count": 14
        }
      ]
    },
    {
      "cell_type": "code",
      "execution_count": 15,
      "id": "2acce3e1",
      "metadata": {
        "colab": {
          "base_uri": "https://localhost:8080/",
          "height": 941
        },
        "id": "2acce3e1",
        "outputId": "9dc0b10c-e84a-47cd-f869-87528f2feabe"
      },
      "outputs": [
        {
          "output_type": "display_data",
          "data": {
            "text/plain": [
              "<IPython.core.display.HTML object>"
            ],
            "text/html": []
          },
          "metadata": {}
        },
        {
          "output_type": "display_data",
          "data": {
            "text/plain": [
              "<IPython.core.display.HTML object>"
            ],
            "text/html": [
              "Tracking run with wandb version 0.22.2"
            ]
          },
          "metadata": {}
        },
        {
          "output_type": "display_data",
          "data": {
            "text/plain": [
              "<IPython.core.display.HTML object>"
            ],
            "text/html": [
              "Run data is saved locally in <code>/content/drive/MyDrive/BRISC2025_FL/wandb/run-20251024_123702-densenet121_centralized_head</code>"
            ]
          },
          "metadata": {}
        },
        {
          "output_type": "display_data",
          "data": {
            "text/plain": [
              "<IPython.core.display.HTML object>"
            ],
            "text/html": [
              "Syncing run <strong><a href='https://wandb.ai/depetrofabio-politecnico-di-torino/BaselineCentralized_DenseNet/runs/densenet121_centralized_head' target=\"_blank\">densenet121_centralized_head</a></strong> to <a href='https://wandb.ai/depetrofabio-politecnico-di-torino/BaselineCentralized_DenseNet' target=\"_blank\">Weights & Biases</a> (<a href='https://wandb.me/developer-guide' target=\"_blank\">docs</a>)<br>"
            ]
          },
          "metadata": {}
        },
        {
          "output_type": "display_data",
          "data": {
            "text/plain": [
              "<IPython.core.display.HTML object>"
            ],
            "text/html": [
              " View project at <a href='https://wandb.ai/depetrofabio-politecnico-di-torino/BaselineCentralized_DenseNet' target=\"_blank\">https://wandb.ai/depetrofabio-politecnico-di-torino/BaselineCentralized_DenseNet</a>"
            ]
          },
          "metadata": {}
        },
        {
          "output_type": "display_data",
          "data": {
            "text/plain": [
              "<IPython.core.display.HTML object>"
            ],
            "text/html": [
              " View run at <a href='https://wandb.ai/depetrofabio-politecnico-di-torino/BaselineCentralized_DenseNet/runs/densenet121_centralized_head' target=\"_blank\">https://wandb.ai/depetrofabio-politecnico-di-torino/BaselineCentralized_DenseNet/runs/densenet121_centralized_head</a>"
            ]
          },
          "metadata": {}
        },
        {
          "output_type": "stream",
          "name": "stdout",
          "text": [
            "[Epoch 1] Train Loss: 0.7565, Train Accuracy: 74.17%, Val Loss: 0.4855, Val Accuracy: 84.30\n",
            "current LR: [0.001]\n",
            "[Epoch 2] Train Loss: 0.4361, Train Accuracy: 86.10%, Val Loss: 0.3678, Val Accuracy: 86.70\n",
            "current LR: [0.001]\n",
            "Checkpoint salvato su: checkpoints/densenet121_centralized_headprova.pth\n",
            "[Epoch 3] Train Loss: 0.3706, Train Accuracy: 86.70%, Val Loss: 0.3399, Val Accuracy: 87.60\n",
            "current LR: [0.001]\n",
            "[Epoch 4] Train Loss: 0.3254, Train Accuracy: 89.20%, Val Loss: 0.3009, Val Accuracy: 89.20\n",
            "current LR: [0.0001]\n",
            "Checkpoint salvato su: checkpoints/densenet121_centralized_headprova.pth\n",
            "[Epoch 5] Train Loss: 0.3026, Train Accuracy: 89.60%, Val Loss: 0.2991, Val Accuracy: 89.40\n",
            "current LR: [0.0001]\n",
            "[Epoch 6] Train Loss: 0.2989, Train Accuracy: 89.50%, Val Loss: 0.2975, Val Accuracy: 89.30\n",
            "current LR: [0.0001]\n",
            "Checkpoint salvato su: checkpoints/densenet121_centralized_headprova.pth\n",
            "[Epoch 7] Train Loss: 0.2969, Train Accuracy: 89.83%, Val Loss: 0.2938, Val Accuracy: 89.60\n",
            "current LR: [0.0001]\n",
            "[Epoch 8] Train Loss: 0.2961, Train Accuracy: 89.58%, Val Loss: 0.2910, Val Accuracy: 89.90\n",
            "current LR: [1e-05]\n",
            "Checkpoint salvato su: checkpoints/densenet121_centralized_headprova.pth\n",
            "[train and validate]: final val accuracy: 89.9\n"
          ]
        },
        {
          "output_type": "display_data",
          "data": {
            "text/plain": [
              "<IPython.core.display.HTML object>"
            ],
            "text/html": []
          },
          "metadata": {}
        },
        {
          "output_type": "display_data",
          "data": {
            "text/plain": [
              "<IPython.core.display.HTML object>"
            ],
            "text/html": [
              "<br>    <style><br>        .wandb-row {<br>            display: flex;<br>            flex-direction: row;<br>            flex-wrap: wrap;<br>            justify-content: flex-start;<br>            width: 100%;<br>        }<br>        .wandb-col {<br>            display: flex;<br>            flex-direction: column;<br>            flex-basis: 100%;<br>            flex: 1;<br>            padding: 10px;<br>        }<br>    </style><br><div class=\"wandb-row\"><div class=\"wandb-col\"><h3>Run history:</h3><br/><table class=\"wandb\"><tr><td>epoch</td><td>▁▂▃▄▅▆▇█</td></tr><tr><td>train_accuracy</td><td>▁▆▇█████</td></tr><tr><td>train_loss</td><td>█▃▂▁▁▁▁▁</td></tr><tr><td>val_accuracy</td><td>▁▄▅▇▇▇██</td></tr><tr><td>val_loss</td><td>█▄▃▁▁▁▁▁</td></tr></table><br/></div><div class=\"wandb-col\"><h3>Run summary:</h3><br/><table class=\"wandb\"><tr><td>epoch</td><td>8</td></tr><tr><td>train_accuracy</td><td>89.575</td></tr><tr><td>train_loss</td><td>0.29612</td></tr><tr><td>val_accuracy</td><td>89.9</td></tr><tr><td>val_loss</td><td>0.29096</td></tr></table><br/></div></div>"
            ]
          },
          "metadata": {}
        },
        {
          "output_type": "display_data",
          "data": {
            "text/plain": [
              "<IPython.core.display.HTML object>"
            ],
            "text/html": [
              " View run <strong style=\"color:#cdcd00\">densenet121_centralized_head</strong> at: <a href='https://wandb.ai/depetrofabio-politecnico-di-torino/BaselineCentralized_DenseNet/runs/densenet121_centralized_head' target=\"_blank\">https://wandb.ai/depetrofabio-politecnico-di-torino/BaselineCentralized_DenseNet/runs/densenet121_centralized_head</a><br> View project at: <a href='https://wandb.ai/depetrofabio-politecnico-di-torino/BaselineCentralized_DenseNet' target=\"_blank\">https://wandb.ai/depetrofabio-politecnico-di-torino/BaselineCentralized_DenseNet</a><br>Synced 5 W&B file(s), 0 media file(s), 0 artifact file(s) and 0 other file(s)"
            ]
          },
          "metadata": {}
        },
        {
          "output_type": "display_data",
          "data": {
            "text/plain": [
              "<IPython.core.display.HTML object>"
            ],
            "text/html": [
              "Find logs at: <code>./wandb/run-20251024_123702-densenet121_centralized_head/logs</code>"
            ]
          },
          "metadata": {}
        },
        {
          "output_type": "stream",
          "name": "stdout",
          "text": [
            "Final validation accuracy: 89.90%\n"
          ]
        }
      ],
      "source": [
        "from training.centralized_training import train_and_validate\n",
        "import torch.optim as optim\n",
        "\n",
        "criterion = nn.CrossEntropyLoss()\n",
        "optimizer = optim.Adam(model.classifier.parameters(), lr=LEARNING_RATE, weight_decay=WEIGHT_DECAY)\n",
        "scheduler = optim.lr_scheduler.StepLR(optimizer, step_size=4, gamma=0.1)\n",
        "\n",
        "checkpoint_dir = Path(\"checkpoints\")\n",
        "checkpoint_dir.mkdir(parents=True, exist_ok=True)\n",
        "checkpoint_path = checkpoint_dir / \"densenet121_centralized_headprova.pth\"\n",
        "\n",
        "model_name = \"densenet121_centralized_head\"\n",
        "project_name = \"BaselineCentralized_DenseNet\"\n",
        "run_name = model_name\n",
        "\n",
        "wandb.init(\n",
        "    project=project_name,\n",
        "    name=run_name,\n",
        "    id=run_name,\n",
        "    config={\n",
        "        \"model\": model_name,\n",
        "        \"epochs\": NUM_EPOCHS,\n",
        "        \"batch_size\": train_loader.batch_size,\n",
        "        \"learning_rate\": LEARNING_RATE,\n",
        "        \"weight_decay\": WEIGHT_DECAY,\n",
        "        \"architecture\": model.__class__.__name__,\n",
        "    },\n",
        ")\n",
        "\n",
        "final_val_acc = train_and_validate(\n",
        "    start_epoch=1,\n",
        "    model=model,\n",
        "    train_loader=train_loader,\n",
        "    val_loader=val_loader,\n",
        "    scheduler=scheduler,\n",
        "    optimizer=optimizer,\n",
        "    criterion=criterion,\n",
        "    device=device,\n",
        "    checkpoint_path=str(checkpoint_path),\n",
        "    num_epochs=NUM_EPOCHS,\n",
        "    checkpoint_interval=CHECKPOINT_INTERVAL,\n",
        ")\n",
        "\n",
        "wandb.finish()\n",
        "print(f\"Final validation accuracy: {final_val_acc:.2f}%\")\n"
      ]
    },
    {
      "cell_type": "code",
      "execution_count": null,
      "id": "c1596015",
      "metadata": {
        "id": "c1596015"
      },
      "outputs": [],
      "source": [
        "from training.centralized_training import test_epoch\n",
        "\n",
        "test_loss, test_accuracy = test_epoch(model, test_loader, criterion, device)\n",
        "print(f\"Test loss: {test_loss:.4f} | Test accuracy: {test_accuracy:.2f}%\")\n",
        "\n",
        "wandb.finish()"
      ]
    },
    {
      "cell_type": "code",
      "execution_count": 18,
      "id": "91422208",
      "metadata": {
        "colab": {
          "base_uri": "https://localhost:8080/",
          "height": 472
        },
        "id": "91422208",
        "outputId": "f6f114bf-35f6-4793-ae6b-32eaf20a357a"
      },
      "outputs": [
        {
          "output_type": "display_data",
          "data": {
            "text/plain": [
              "<Figure size 640x480 with 2 Axes>"
            ],
            "image/png": "[encoded data removed]"
          },
          "metadata": {}
        }
      ],
      "source": [
        "import torch\n",
        "from sklearn.metrics import confusion_matrix, ConfusionMatrixDisplay\n",
        "import matplotlib.pyplot as plt\n",
        "\n",
        "model.eval()\n",
        "all_preds = []\n",
        "all_targets = []\n",
        "\n",
        "with torch.no_grad():\n",
        "    for images, labels in val_loader:\n",
        "        images = images.to(device)\n",
        "        labels = labels.to(device)\n",
        "        outputs = model(images)\n",
        "        preds = torch.argmax(outputs, dim=1)\n",
        "        all_preds.extend(preds.cpu().numpy())\n",
        "        all_targets.extend(labels.cpu().numpy())\n",
        "\n",
        "cm = confusion_matrix(all_targets, all_preds)\n",
        "disp = ConfusionMatrixDisplay(confusion_matrix=cm, display_labels=[\"glioma\", \"meningioma\", \"no_tumor\", \"pituitary\"])\n",
        "disp.plot(cmap=\"Blues\")\n",
        "plt.title(\"Validation Confusion Matrix\")\n",
        "plt.show()\n"
      ]
    }
  ],
  "metadata": {
    "kernelspec": {
      "display_name": "Python 3",
      "name": "python3"
    },
    "language_info": {
      "codemirror_mode": {
        "name": "ipython",
        "version": 3
      },
      "file_extension": ".py",
      "mimetype": "text/x-python",
      "name": "python",
      "nbconvert_exporter": "python",
      "pygments_lexer": "ipython3",
      "version": "3.11.13"
    },
    "colab": {
      "provenance": [],
      "gpuType": "T4"
    },
    "accelerator": "GPU"
  },
  "nbformat": 4,
  "nbformat_minor": 5
}