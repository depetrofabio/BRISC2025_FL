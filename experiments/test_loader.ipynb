{
 "cells": [
  {
   "cell_type": "markdown",
   "metadata": {},
   "source": [
    "# Loader Smoke Test\n",
    "\n",
    "Quick notebook to verify the CSV manifest helpers and dataset splits."
   ]
  },
  {
   "cell_type": "code",
   "execution_count": 1,
   "id": "967efb55",
   "metadata": {},
   "outputs": [],
   "source": [
    "import sys\n",
    "from pathlib import Path\n",
    "\n",
    "repo_root = Path(\"/workspace\")  # replace with your repo root\n",
    "if str(repo_root) not in sys.path:\n",
    "    sys.path.append(str(repo_root))\n"
   ]
  },
  {
   "cell_type": "code",
   "execution_count": 2,
   "id": "4060596e",
   "metadata": {},
   "outputs": [
    {
     "data": {
      "text/html": [
       "<div>\n",
       "<style scoped>\n",
       "    .dataframe tbody tr th:only-of-type {\n",
       "        vertical-align: middle;\n",
       "    }\n",
       "\n",
       "    .dataframe tbody tr th {\n",
       "        vertical-align: top;\n",
       "    }\n",
       "\n",
       "    .dataframe thead th {\n",
       "        text-align: right;\n",
       "    }\n",
       "</style>\n",
       "<table border=\"1\" class=\"dataframe\">\n",
       "  <thead>\n",
       "    <tr style=\"text-align: right;\">\n",
       "      <th></th>\n",
       "      <th>filename</th>\n",
       "      <th>path</th>\n",
       "      <th>split</th>\n",
       "      <th>index</th>\n",
       "      <th>tumor</th>\n",
       "      <th>plane</th>\n",
       "      <th>sequence</th>\n",
       "      <th>label</th>\n",
       "    </tr>\n",
       "  </thead>\n",
       "  <tbody>\n",
       "    <tr>\n",
       "      <th>0</th>\n",
       "      <td>brisc2025_test_00001_gl_ax_t1.jpg</td>\n",
       "      <td>classification_task/test/glioma/brisc2025_test...</td>\n",
       "      <td>test</td>\n",
       "      <td>1</td>\n",
       "      <td>glioma</td>\n",
       "      <td>ax</td>\n",
       "      <td>t1</td>\n",
       "      <td>0</td>\n",
       "    </tr>\n",
       "    <tr>\n",
       "      <th>1</th>\n",
       "      <td>brisc2025_test_00002_gl_ax_t1.jpg</td>\n",
       "      <td>classification_task/test/glioma/brisc2025_test...</td>\n",
       "      <td>test</td>\n",
       "      <td>2</td>\n",
       "      <td>glioma</td>\n",
       "      <td>ax</td>\n",
       "      <td>t1</td>\n",
       "      <td>0</td>\n",
       "    </tr>\n",
       "    <tr>\n",
       "      <th>2</th>\n",
       "      <td>brisc2025_test_00003_gl_ax_t1.jpg</td>\n",
       "      <td>classification_task/test/glioma/brisc2025_test...</td>\n",
       "      <td>test</td>\n",
       "      <td>3</td>\n",
       "      <td>glioma</td>\n",
       "      <td>ax</td>\n",
       "      <td>t1</td>\n",
       "      <td>0</td>\n",
       "    </tr>\n",
       "    <tr>\n",
       "      <th>3</th>\n",
       "      <td>brisc2025_test_00004_gl_ax_t1.jpg</td>\n",
       "      <td>classification_task/test/glioma/brisc2025_test...</td>\n",
       "      <td>test</td>\n",
       "      <td>4</td>\n",
       "      <td>glioma</td>\n",
       "      <td>ax</td>\n",
       "      <td>t1</td>\n",
       "      <td>0</td>\n",
       "    </tr>\n",
       "    <tr>\n",
       "      <th>4</th>\n",
       "      <td>brisc2025_test_00005_gl_ax_t1.jpg</td>\n",
       "      <td>classification_task/test/glioma/brisc2025_test...</td>\n",
       "      <td>test</td>\n",
       "      <td>5</td>\n",
       "      <td>glioma</td>\n",
       "      <td>ax</td>\n",
       "      <td>t1</td>\n",
       "      <td>0</td>\n",
       "    </tr>\n",
       "  </tbody>\n",
       "</table>\n",
       "</div>"
      ],
      "text/plain": [
       "                            filename  \\\n",
       "0  brisc2025_test_00001_gl_ax_t1.jpg   \n",
       "1  brisc2025_test_00002_gl_ax_t1.jpg   \n",
       "2  brisc2025_test_00003_gl_ax_t1.jpg   \n",
       "3  brisc2025_test_00004_gl_ax_t1.jpg   \n",
       "4  brisc2025_test_00005_gl_ax_t1.jpg   \n",
       "\n",
       "                                                path split  index   tumor  \\\n",
       "0  classification_task/test/glioma/brisc2025_test...  test      1  glioma   \n",
       "1  classification_task/test/glioma/brisc2025_test...  test      2  glioma   \n",
       "2  classification_task/test/glioma/brisc2025_test...  test      3  glioma   \n",
       "3  classification_task/test/glioma/brisc2025_test...  test      4  glioma   \n",
       "4  classification_task/test/glioma/brisc2025_test...  test      5  glioma   \n",
       "\n",
       "  plane sequence  label  \n",
       "0    ax       t1      0  \n",
       "1    ax       t1      0  \n",
       "2    ax       t1      0  \n",
       "3    ax       t1      0  \n",
       "4    ax       t1      0  "
      ]
     },
     "execution_count": 2,
     "metadata": {},
     "output_type": "execute_result"
    }
   ],
   "source": [
    "from pathlib import Path\n",
    "\n",
    "import pandas as pd\n",
    "from data.loader import build_datasets_from_manifest, split_manifest_dataframe\n",
    "\n",
    "manifest_path = Path(\"../data/manifests/classification_manifest.csv\")\n",
    "base_dir = Path(\"../data/brisc2025\")\n",
    "\n",
    "manifest_df = pd.read_csv(manifest_path)\n",
    "manifest_df.head()"
   ]
  },
  {
   "cell_type": "code",
   "execution_count": 3,
   "id": "c397ea07",
   "metadata": {},
   "outputs": [
    {
     "name": "stdout",
     "output_type": "stream",
     "text": [
      "train rows: 4000 | val rows: 1000 | test rows: 1000\n"
     ]
    },
    {
     "data": {
      "text/html": [
       "<div>\n",
       "<style scoped>\n",
       "    .dataframe tbody tr th:only-of-type {\n",
       "        vertical-align: middle;\n",
       "    }\n",
       "\n",
       "    .dataframe tbody tr th {\n",
       "        vertical-align: top;\n",
       "    }\n",
       "\n",
       "    .dataframe thead th {\n",
       "        text-align: right;\n",
       "    }\n",
       "</style>\n",
       "<table border=\"1\" class=\"dataframe\">\n",
       "  <thead>\n",
       "    <tr style=\"text-align: right;\">\n",
       "      <th></th>\n",
       "      <th>filename</th>\n",
       "      <th>path</th>\n",
       "      <th>split</th>\n",
       "      <th>index</th>\n",
       "      <th>tumor</th>\n",
       "      <th>plane</th>\n",
       "      <th>sequence</th>\n",
       "      <th>label</th>\n",
       "      <th>_strata</th>\n",
       "    </tr>\n",
       "  </thead>\n",
       "  <tbody>\n",
       "    <tr>\n",
       "      <th>0</th>\n",
       "      <td>brisc2025_train_00592_gl_co_t1.jpg</td>\n",
       "      <td>classification_task/train/glioma/brisc2025_tra...</td>\n",
       "      <td>train</td>\n",
       "      <td>592</td>\n",
       "      <td>glioma</td>\n",
       "      <td>co</td>\n",
       "      <td>t1</td>\n",
       "      <td>0</td>\n",
       "      <td>glioma_co</td>\n",
       "    </tr>\n",
       "    <tr>\n",
       "      <th>1</th>\n",
       "      <td>brisc2025_train_04803_pi_sa_t1.jpg</td>\n",
       "      <td>classification_task/train/pituitary/brisc2025_...</td>\n",
       "      <td>train</td>\n",
       "      <td>4803</td>\n",
       "      <td>pituitary</td>\n",
       "      <td>sa</td>\n",
       "      <td>t1</td>\n",
       "      <td>3</td>\n",
       "      <td>pituitary_sa</td>\n",
       "    </tr>\n",
       "    <tr>\n",
       "      <th>2</th>\n",
       "      <td>brisc2025_train_00818_gl_co_t1.jpg</td>\n",
       "      <td>classification_task/train/glioma/brisc2025_tra...</td>\n",
       "      <td>train</td>\n",
       "      <td>818</td>\n",
       "      <td>glioma</td>\n",
       "      <td>co</td>\n",
       "      <td>t1</td>\n",
       "      <td>0</td>\n",
       "      <td>glioma_co</td>\n",
       "    </tr>\n",
       "    <tr>\n",
       "      <th>3</th>\n",
       "      <td>brisc2025_train_01156_me_ax_t1.jpg</td>\n",
       "      <td>classification_task/train/meningioma/brisc2025...</td>\n",
       "      <td>train</td>\n",
       "      <td>1156</td>\n",
       "      <td>meningioma</td>\n",
       "      <td>ax</td>\n",
       "      <td>t1</td>\n",
       "      <td>1</td>\n",
       "      <td>meningioma_ax</td>\n",
       "    </tr>\n",
       "    <tr>\n",
       "      <th>4</th>\n",
       "      <td>brisc2025_train_02610_no_ax_t1.jpg</td>\n",
       "      <td>classification_task/train/no_tumor/brisc2025_t...</td>\n",
       "      <td>train</td>\n",
       "      <td>2610</td>\n",
       "      <td>no_tumor</td>\n",
       "      <td>ax</td>\n",
       "      <td>t1</td>\n",
       "      <td>2</td>\n",
       "      <td>no_tumor_ax</td>\n",
       "    </tr>\n",
       "  </tbody>\n",
       "</table>\n",
       "</div>"
      ],
      "text/plain": [
       "                             filename  \\\n",
       "0  brisc2025_train_00592_gl_co_t1.jpg   \n",
       "1  brisc2025_train_04803_pi_sa_t1.jpg   \n",
       "2  brisc2025_train_00818_gl_co_t1.jpg   \n",
       "3  brisc2025_train_01156_me_ax_t1.jpg   \n",
       "4  brisc2025_train_02610_no_ax_t1.jpg   \n",
       "\n",
       "                                                path  split  index  \\\n",
       "0  classification_task/train/glioma/brisc2025_tra...  train    592   \n",
       "1  classification_task/train/pituitary/brisc2025_...  train   4803   \n",
       "2  classification_task/train/glioma/brisc2025_tra...  train    818   \n",
       "3  classification_task/train/meningioma/brisc2025...  train   1156   \n",
       "4  classification_task/train/no_tumor/brisc2025_t...  train   2610   \n",
       "\n",
       "        tumor plane sequence  label        _strata  \n",
       "0      glioma    co       t1      0      glioma_co  \n",
       "1   pituitary    sa       t1      3   pituitary_sa  \n",
       "2      glioma    co       t1      0      glioma_co  \n",
       "3  meningioma    ax       t1      1  meningioma_ax  \n",
       "4    no_tumor    ax       t1      2    no_tumor_ax  "
      ]
     },
     "execution_count": 3,
     "metadata": {},
     "output_type": "execute_result"
    }
   ],
   "source": [
    "train_df, val_df, test_df = split_manifest_dataframe(\n",
    "    manifest_path=manifest_path,\n",
    "    train_split_value=\"train\",\n",
    "    test_split_value=\"test\",\n",
    "    val_fraction=0.2,\n",
    "    stratify_columns=(\"tumor\", \"plane\"),\n",
    "    random_state=42,\n",
    ")\n",
    "\n",
    "print(f\"train rows: {len(train_df)} | val rows: {len(val_df)} | test rows: {len(test_df)}\")\n",
    "train_df.head()"
   ]
  },
  {
   "cell_type": "code",
   "execution_count": 4,
   "id": "df69bc2b",
   "metadata": {},
   "outputs": [
    {
     "data": {
      "image/png": "[encoded data removed]",
      "text/plain": [
       "<Figure size 1200x400 with 3 Axes>"
      ]
     },
     "metadata": {},
     "output_type": "display_data"
    }
   ],
   "source": [
    "import matplotlib.pyplot as plt\n",
    "\n",
    "dfs = {\"train\": train_df, \"val\": val_df, \"test\": test_df}\n",
    "column = \"tumor\"\n",
    "\n",
    "fig, axes = plt.subplots(1, 3, figsize=(12, 4), sharey=True)\n",
    "\n",
    "for ax, (split_name, df) in zip(axes, dfs.items()):\n",
    "    counts = df[column].value_counts(normalize=True).sort_index()\n",
    "    counts.plot(kind=\"bar\", ax=ax, color=\"#4C72B0\")\n",
    "\n",
    "    ax.set_title(f\"{split_name} – {column}\")\n",
    "    ax.set_xlabel(\"\")\n",
    "    ax.set_ylabel(\"Percentage\")\n",
    "    ax.set_ylim(0, 1)\n",
    "    ax.bar_label(ax.containers[0], fmt=\"{:.1%}\", padding=3)\n",
    "\n",
    "plt.tight_layout()\n",
    "plt.show()\n"
   ]
  },
  {
   "cell_type": "code",
   "execution_count": 5,
   "id": "185e04e3",
   "metadata": {},
   "outputs": [
    {
     "data": {
      "image/png": "[encoded data removed]",
      "text/plain": [
       "<Figure size 1200x400 with 3 Axes>"
      ]
     },
     "metadata": {},
     "output_type": "display_data"
    }
   ],
   "source": [
    "import matplotlib.pyplot as plt\n",
    "\n",
    "dfs = {\"train\": train_df, \"val\": val_df, \"test\": test_df}\n",
    "column = \"plane\"\n",
    "\n",
    "fig, axes = plt.subplots(1, 3, figsize=(12, 4), sharey=True)\n",
    "\n",
    "for ax, (split_name, df) in zip(axes, dfs.items()):\n",
    "    counts = df[column].value_counts(normalize=True).sort_index()\n",
    "    counts.plot(kind=\"bar\", ax=ax, color=\"#4C72B0\")\n",
    "\n",
    "    ax.set_title(f\"{split_name} – {column}\")\n",
    "    ax.set_xlabel(\"\")\n",
    "    ax.set_ylabel(\"Percentage\")\n",
    "    ax.set_ylim(0, 1)\n",
    "    ax.bar_label(ax.containers[0], fmt=\"{:.1%}\", padding=3)\n",
    "\n",
    "plt.tight_layout()\n",
    "plt.show()\n"
   ]
  },
  {
   "cell_type": "code",
   "execution_count": 6,
   "id": "cb29d6e1",
   "metadata": {},
   "outputs": [
    {
     "data": {
      "text/plain": [
       "(4000, 1000, 1000)"
      ]
     },
     "execution_count": 6,
     "metadata": {},
     "output_type": "execute_result"
    }
   ],
   "source": [
    "train_set, val_set, test_set = build_datasets_from_manifest(\n",
    "    manifest_path=manifest_path,\n",
    "    base_dir=base_dir,\n",
    "    train_split_value=\"train\",\n",
    "    test_split_value=\"test\",\n",
    "    val_fraction=0.2,\n",
    "    stratify_columns=(\"tumor\", \"plane\"),\n",
    "    random_state=42,\n",
    ")\n",
    "\n",
    "len(train_set), len(val_set), len(test_set)"
   ]
  },
  {
   "cell_type": "code",
   "execution_count": 7,
   "id": "27547ee8",
   "metadata": {},
   "outputs": [
    {
     "ename": "OSError",
     "evalue": "[Errno 35] Resource deadlock avoided",
     "output_type": "error",
     "traceback": [
      "\u001b[31m---------------------------------------------------------------------------\u001b[39m",
      "\u001b[31mOSError\u001b[39m                                   Traceback (most recent call last)",
      "\u001b[36mCell\u001b[39m\u001b[36m \u001b[39m\u001b[32mIn[7]\u001b[39m\u001b[32m, line 2\u001b[39m\n\u001b[32m      1\u001b[39m sample_idx = \u001b[32m0\u001b[39m\n\u001b[32m----> \u001b[39m\u001b[32m2\u001b[39m image, label = \u001b[43mtrain_set\u001b[49m\u001b[43m[\u001b[49m\u001b[43msample_idx\u001b[49m\u001b[43m]\u001b[49m\n\u001b[32m      4\u001b[39m \u001b[38;5;28mprint\u001b[39m(\u001b[33mf\u001b[39m\u001b[33m\"\u001b[39m\u001b[33mSample \u001b[39m\u001b[38;5;132;01m{\u001b[39;00msample_idx\u001b[38;5;132;01m}\u001b[39;00m\u001b[33m => tensor shape: \u001b[39m\u001b[38;5;132;01m{\u001b[39;00m\u001b[38;5;28mtuple\u001b[39m(image.shape)\u001b[38;5;132;01m}\u001b[39;00m\u001b[33m, label: \u001b[39m\u001b[38;5;132;01m{\u001b[39;00mlabel\u001b[38;5;132;01m}\u001b[39;00m\u001b[33m\"\u001b[39m)\n",
      "\u001b[36mFile \u001b[39m\u001b[32m/workspace/data/loader.py:133\u001b[39m, in \u001b[36mImagePathDataset.__getitem__\u001b[39m\u001b[34m(self, idx)\u001b[39m\n\u001b[32m    130\u001b[39m label = \u001b[38;5;28mself\u001b[39m.labels[idx]\n\u001b[32m    132\u001b[39m \u001b[38;5;66;03m# Load image\u001b[39;00m\n\u001b[32m--> \u001b[39m\u001b[32m133\u001b[39m image = \u001b[43mImage\u001b[49m\u001b[43m.\u001b[49m\u001b[43mopen\u001b[49m\u001b[43m(\u001b[49m\u001b[43mimg_path\u001b[49m\u001b[43m)\u001b[49m.convert(\u001b[33m\"\u001b[39m\u001b[33mRGB\u001b[39m\u001b[33m\"\u001b[39m)\n\u001b[32m    135\u001b[39m \u001b[38;5;66;03m# Apply transforms if any\u001b[39;00m\n\u001b[32m    136\u001b[39m \u001b[38;5;28;01mif\u001b[39;00m \u001b[38;5;28mself\u001b[39m.transform:\n",
      "\u001b[36mFile \u001b[39m\u001b[32m/usr/local/lib/python3.11/site-packages/PIL/Image.py:3504\u001b[39m, in \u001b[36mopen\u001b[39m\u001b[34m(fp, mode, formats)\u001b[39m\n\u001b[32m   3501\u001b[39m     fp = io.BytesIO(fp.read())\n\u001b[32m   3502\u001b[39m     exclusive_fp = \u001b[38;5;28;01mTrue\u001b[39;00m\n\u001b[32m-> \u001b[39m\u001b[32m3504\u001b[39m prefix = \u001b[43mfp\u001b[49m\u001b[43m.\u001b[49m\u001b[43mread\u001b[49m\u001b[43m(\u001b[49m\u001b[32;43m16\u001b[39;49m\u001b[43m)\u001b[49m\n\u001b[32m   3506\u001b[39m preinit()\n\u001b[32m   3508\u001b[39m warning_messages: \u001b[38;5;28mlist\u001b[39m[\u001b[38;5;28mstr\u001b[39m] = []\n",
      "\u001b[31mOSError\u001b[39m: [Errno 35] Resource deadlock avoided"
     ]
    }
   ],
   "source": [
    "sample_idx = 0\n",
    "image, label = train_set[sample_idx]\n",
    "\n",
    "print(f\"Sample {sample_idx} => tensor shape: {tuple(image.shape)}, label: {label}\")"
   ]
  }
 ],
 "metadata": {
  "kernelspec": {
   "display_name": "Python 3",
   "language": "python",
   "name": "python3"
  },
  "language_info": {
   "codemirror_mode": {
    "name": "ipython",
    "version": 3
   },
   "file_extension": ".py",
   "mimetype": "text/x-python",
   "name": "python",
   "nbconvert_exporter": "python",
   "pygments_lexer": "ipython3",
   "version": "3.11.13"
  }
 },
 "nbformat": 4,
 "nbformat_minor": 5
}
